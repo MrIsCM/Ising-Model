{
 "cells": [
  {
   "cell_type": "markdown",
   "id": "590e7280",
   "metadata": {},
   "source": [
    "# Imports"
   ]
  },
  {
   "cell_type": "code",
   "execution_count": 1,
   "id": "4b0b8e11",
   "metadata": {},
   "outputs": [],
   "source": [
    "import numpy as np\n",
    "from Ising_Model_Fast import *"
   ]
  },
  {
   "cell_type": "markdown",
   "id": "3de5f218",
   "metadata": {},
   "source": [
    "# Simulation"
   ]
  },
  {
   "cell_type": "markdown",
   "id": "5f36b9d7",
   "metadata": {},
   "source": [
    "## Configuration"
   ]
  },
  {
   "cell_type": "code",
   "execution_count": 2,
   "id": "41f8c7a3",
   "metadata": {},
   "outputs": [],
   "source": [
    "SEED = 42\n",
    "np.random.seed(SEED)\n",
    "\n",
    "N = 50\n",
    "J1 = 0.5\n",
    "J2 = 1.0\n",
    "T = 0.5\n",
    "MC_steps = 1000000"
   ]
  },
  {
   "cell_type": "markdown",
   "id": "f9c4e0fb",
   "metadata": {},
   "source": [
    "## Initialize net"
   ]
  },
  {
   "cell_type": "code",
   "execution_count": 3,
   "id": "2671c7ce",
   "metadata": {},
   "outputs": [],
   "source": [
    "# Generate a random 2D lattice\n",
    "\n",
    "# Probability of value 1 [-1 has (p-1) probability]\n",
    "p_1 = 0.5\n",
    "lattice = np.random.choice([1, -1], size=(N, N), p=[p_1, 1-p_1])"
   ]
  },
  {
   "cell_type": "code",
   "execution_count": 4,
   "id": "51f6ca4c",
   "metadata": {},
   "outputs": [],
   "source": [
    "# Get initial energy of the lattice\n",
    "energy = get_energy(lattice, N, J1, J2)\n",
    "\n",
    "# Desired number of states to save\n",
    "n_images = 50\n",
    "\n",
    "# Generate the appropriate spacing for the images\n",
    "# Using logspace to get more images at the early stages (more change) and less at the end (less change)\n",
    "img_spacing = set(np.logspace(0, np.log10(MC_steps), num=n_images, endpoint=True, dtype=int))"
   ]
  },
  {
   "cell_type": "code",
   "execution_count": 5,
   "id": "95db3947",
   "metadata": {},
   "outputs": [],
   "source": [
    "simulation_params = {\n",
    "    'lattice' : lattice,\n",
    "    'MC_steps' : MC_steps,\n",
    "    'T' : T,\n",
    "    'energy' : energy,\n",
    "    'N' : N,\n",
    "    'J1' : J1,\n",
    "    'J2' : J2,\n",
    "    'save_images' : True,\n",
    "    'image_spacing' : img_spacing,\n",
    "    'verbose' : 0\n",
    "    }\n",
    "\n",
    "# Run the Metropolis algorithm\n",
    "spins, energies, images = metropolis(**simulation_params)"
   ]
  },
  {
   "cell_type": "code",
   "execution_count": 7,
   "id": "7c27f038",
   "metadata": {},
   "outputs": [
    {
     "name": "stdout",
     "output_type": "stream",
     "text": [
      "Running T = 1.02...\n",
      "--------------------\n",
      "Running T = 1.32...\n",
      "--------------------\n",
      "Running T = 1.70...\n",
      "--------------------\n",
      "Running T = 2.19...\n",
      "--------------------\n",
      "Running T = 2.82...\n",
      "--------------------\n",
      "Running T = 3.63...\n",
      "--------------------\n",
      "Running T = 4.68...\n",
      "--------------------\n",
      "Running T = 6.03...\n",
      "--------------------\n",
      "Running T = 7.76...\n",
      "--------------------\n",
      "Running T = 10.00...\n",
      "--------------------\n"
     ]
    }
   ],
   "source": [
    "T_0 = 0.01\n",
    "T_f = np.log10(10.0)\n",
    "T_steps = 10\n",
    "temperatures = np.logspace(T_0, T_f, num=T_steps, endpoint=True, dtype=float)\n",
    "spins_T = np.empty((T_steps, MC_steps), dtype=np.int8)\n",
    "energies_T = np.empty((T_steps, MC_steps), dtype=np.float32)\n",
    "images_T = np.empty((T_steps, n_images-2, N, N), dtype=np.int8)\n",
    "\n",
    "for i, T in enumerate(temperatures):\n",
    "    print(f\"Running T = {T:.2f}...\")\n",
    "    print(\"-\" * 20)\n",
    "    simulation_params['T'] = T\n",
    "    spins_T[i], energies_T[i], images_T[i] = metropolis(**simulation_params)\n"
   ]
  },
  {
   "cell_type": "code",
   "execution_count": 8,
   "id": "6e3b2063",
   "metadata": {},
   "outputs": [],
   "source": [
    "C_T = np.empty(T_steps, dtype=np.float32)\n",
    "for i in range(T_steps):\n",
    "    C_T[i] = compute_specific_heat(energies_T[i], N, temperatures[i])"
   ]
  },
  {
   "cell_type": "code",
   "execution_count": 9,
   "id": "a9a58106",
   "metadata": {},
   "outputs": [
    {
     "data": {
      "text/plain": [
       "[<matplotlib.lines.Line2D at 0x1829fdf41d0>]"
      ]
     },
     "execution_count": 9,
     "metadata": {},
     "output_type": "execute_result"
    },
    {
     "data": {
      "image/png": "[encoded data removed]",
      "text/plain": [
       "<Figure size 640x480 with 1 Axes>"
      ]
     },
     "metadata": {},
     "output_type": "display_data"
    }
   ],
   "source": [
    "plt.plot(temperatures, C_T, marker='o')"
   ]
  }
 ],
 "metadata": {
  "kernelspec": {
   "display_name": "base",
   "language": "python",
   "name": "python3"
  },
  "language_info": {
   "codemirror_mode": {
    "name": "ipython",
    "version": 3
   },
   "file_extension": ".py",
   "mimetype": "text/x-python",
   "name": "python",
   "nbconvert_exporter": "python",
   "pygments_lexer": "ipython3",
   "version": "3.12.7"
  }
 },
 "nbformat": 4,
 "nbformat_minor": 5
}
