{
 "cells": [
  {
   "cell_type": "markdown",
   "id": "590e7280",
   "metadata": {},
   "source": [
    "# Imports"
   ]
  },
  {
   "cell_type": "code",
   "execution_count": 19,
   "id": "4b0b8e11",
   "metadata": {},
   "outputs": [],
   "source": [
    "import numpy as np\n",
    "from Ising_Model_Fast import *"
   ]
  },
  {
   "cell_type": "markdown",
   "id": "3de5f218",
   "metadata": {},
   "source": [
    "# Simulation"
   ]
  },
  {
   "cell_type": "markdown",
   "id": "5f36b9d7",
   "metadata": {},
   "source": [
    "## Configuration"
   ]
  },
  {
   "cell_type": "markdown",
   "id": "f311d563",
   "metadata": {},
   "source": [
    "### Warm-Up\n",
    "\n",
    "First call to the function to compile it"
   ]
  },
  {
   "cell_type": "code",
   "execution_count": 20,
   "id": "660e2afe",
   "metadata": {},
   "outputs": [],
   "source": [
    "seed = 42\n",
    "\n",
    "N = 10\n",
    "J1, J2 = 0.5, 1.0\n",
    "T = 1.0\n",
    "MC_steps = 1000\n",
    "save_images = False\n",
    "images_spacing = np.array([0, 1])\n",
    "\n",
    "warm_up_config = {\n",
    "    'N' : N,\n",
    "    'J1' : J1,\n",
    "    'J2' : J2,\n",
    "    'T' : T,\n",
    "    'seed' : seed,\n",
    "    'MC_steps' : MC_steps,\n",
    "    'save_images' : save_images,\n",
    "    'images_spacing' : images_spacing,\n",
    "    'verbose' : 0\n",
    "}\n",
    "warm_up_lattice = initialize_lattice(N, seed=seed)\n",
    "warm_up_energy = get_energy(warm_up_lattice, **warm_up_config)\n",
    "_, _, _, _ = metropolis(lattice=warm_up_lattice, energy=warm_up_energy, **warm_up_config)"
   ]
  },
  {
   "cell_type": "markdown",
   "id": "16ad7240",
   "metadata": {},
   "source": [
    "### Set Parameters"
   ]
  },
  {
   "cell_type": "code",
   "execution_count": null,
   "id": "41f8c7a3",
   "metadata": {},
   "outputs": [],
   "source": [
    "seed = 42\n",
    "\n",
    "N, T = 100, 0.5\n",
    "J1, J2 = 0.5, 1.0\n",
    "MC_steps = int(1e7)\n",
    "\n",
    "save_images = True\n",
    "n_imgs = 100\n",
    "images_spacing = np.unique(np.logspace(0, np.log10(MC_steps), n_imgs, endpoint=True, dtype=int))\n",
    "\n",
    "params_mod = {\n",
    "    'N' : N,\n",
    "    'J1' : J1,\n",
    "    'J2' : J2,\n",
    "    'T' : T,\n",
    "    'seed' : seed,\n",
    "    'MC_steps' : MC_steps,\n",
    "    'save_images' : save_images,\n",
    "    'images_spacing' : images_spacing,\n",
    "    'verbose' : 0\n",
    "}\n",
    "\n",
    "params_cls = params_mod.copy()\n",
    "# params_cls['J1'] = 1.0\n",
    "params_cls['J2'] = 0.0"
   ]
  },
  {
   "cell_type": "markdown",
   "id": "f9c4e0fb",
   "metadata": {},
   "source": [
    "## Initialize net"
   ]
  },
  {
   "cell_type": "code",
   "execution_count": 29,
   "id": "2671c7ce",
   "metadata": {},
   "outputs": [],
   "source": [
    "# Generate a random 2D lattice\n",
    "lattice = initialize_lattice(N, p=0.5, seed=seed)\n",
    "\n",
    "# Get initial energy of the lattice\n",
    "energy = get_energy(lattice, N, J1, J2)"
   ]
  },
  {
   "cell_type": "markdown",
   "id": "4b9cc26e",
   "metadata": {},
   "source": [
    "## Simulation"
   ]
  },
  {
   "cell_type": "code",
   "execution_count": 30,
   "id": "95db3947",
   "metadata": {},
   "outputs": [],
   "source": [
    "# Run the Metropolis algorithm\n",
    "mags_cls, energies_cls, images_cls, last_conf_cls = metropolis(lattice=lattice, energy=energy, **params_cls)"
   ]
  },
  {
   "cell_type": "code",
   "execution_count": 32,
   "id": "6460886b",
   "metadata": {},
   "outputs": [],
   "source": [
    "mags_mod, energies_mod, images_mod, last_conf_mod = metropolis(lattice=lattice, energy=energy, **params_mod)"
   ]
  },
  {
   "cell_type": "markdown",
   "id": "cc174194",
   "metadata": {},
   "source": [
    "## Visualize results"
   ]
  },
  {
   "cell_type": "code",
   "execution_count": 33,
   "id": "a43ad761",
   "metadata": {},
   "outputs": [
    {
     "name": "stdout",
     "output_type": "stream",
     "text": [
      "GIF saved as Simulations\\Simulation_N100_T0.5\\figures\\ising_cls.gif\n",
      "GIF saved as Simulations\\Simulation_N100_T0.5\\figures\\ising_mod.gif\n"
     ]
    }
   ],
   "source": [
    "paths = path_configuration(N, T)\n",
    "\n",
    "# Save gif\n",
    "create_gif(images_cls, save_dir=paths['figures'], filename='ising_cls.gif', scale=5, fps=15, cmap='plasma')\n",
    "\n",
    "# Save data\n",
    "# save_magnetization_data(mags_cls, save_dir=paths['data'], filename='magnetization_cls.npy')\n",
    "# save_energy_data(energies_cls, save_dir=paths['data'], filename='energy_cls.npy')\n",
    "save_lattice_data(last_conf_cls, save_dir=paths['data'], filename='lattice_cls.npy')\n",
    "\n",
    "# Save gif\n",
    "create_gif(images_mod, save_dir=paths['figures'], filename='ising_mod.gif', scale=5, fps=15, cmap='plasma')\n",
    "\n",
    "# Save data\n",
    "# save_magnetization_data(mags_mod, save_dir=paths['data'], filename='magnetization_mod.npy')\n",
    "# save_energy_data(energies_mod, save_dir=paths['data'], filename='energy_mod.npy')\n",
    "save_lattice_data(last_conf_mod, save_dir=paths['data'], filename='lattice_mod.npy')"
   ]
  },
  {
   "cell_type": "code",
   "execution_count": 36,
   "id": "1d4c908c",
   "metadata": {},
   "outputs": [
    {
     "data": {
      "text/plain": [
       "Text(0, 0.5, 'Magnetization')"
      ]
     },
     "execution_count": 36,
     "metadata": {},
     "output_type": "execute_result"
    },
    {
     "data": {
      "image/png": "[encoded data removed]",
      "text/plain": [
       "<Figure size 640x480 with 1 Axes>"
      ]
     },
     "metadata": {},
     "output_type": "display_data"
    }
   ],
   "source": [
    "plt.plot(mags_cls, label='cls')\n",
    "plt.plot(mags_mod, label='mod')\n",
    "plt.legend(loc='upper left')\n",
    "plt.xlabel('MC steps')\n",
    "plt.ylabel('Magnetization')"
   ]
  },
  {
   "cell_type": "code",
   "execution_count": null,
   "id": "7c27f038",
   "metadata": {},
   "outputs": [
    {
     "name": "stdout",
     "output_type": "stream",
     "text": [
      "Running T = 10.00...\n",
      "--------------------\n",
      "Running T = 6.67...\n",
      "--------------------\n",
      "Running T = 5.00...\n",
      "--------------------\n",
      "Running T = 4.00...\n",
      "--------------------\n",
      "Running T = 3.33...\n",
      "--------------------\n",
      "Running T = 2.86...\n",
      "--------------------\n",
      "Running T = 2.50...\n",
      "--------------------\n",
      "Running T = 2.22...\n",
      "--------------------\n",
      "Running T = 2.00...\n",
      "--------------------\n",
      "Running T = 1.82...\n",
      "--------------------\n",
      "Running T = 1.67...\n",
      "--------------------\n",
      "Running T = 1.54...\n",
      "--------------------\n",
      "Running T = 1.43...\n",
      "--------------------\n",
      "Running T = 1.33...\n",
      "--------------------\n",
      "Running T = 1.25...\n",
      "--------------------\n",
      "Running T = 1.18...\n",
      "--------------------\n",
      "Running T = 1.11...\n",
      "--------------------\n",
      "Running T = 1.05...\n",
      "--------------------\n",
      "Running T = 1.00...\n",
      "--------------------\n",
      "Running T = 0.95...\n",
      "--------------------\n",
      "Running T = 0.91...\n",
      "--------------------\n",
      "Running T = 0.87...\n",
      "--------------------\n",
      "Running T = 0.83...\n",
      "--------------------\n",
      "Running T = 0.80...\n",
      "--------------------\n",
      "Running T = 0.77...\n",
      "--------------------\n",
      "Running T = 0.74...\n",
      "--------------------\n",
      "Running T = 0.71...\n",
      "--------------------\n",
      "Running T = 0.69...\n",
      "--------------------\n",
      "Running T = 0.67...\n",
      "--------------------\n",
      "Running T = 0.65...\n",
      "--------------------\n",
      "Running T = 0.62...\n",
      "--------------------\n",
      "Running T = 0.61...\n",
      "--------------------\n",
      "Running T = 0.59...\n",
      "--------------------\n",
      "Running T = 0.57...\n",
      "--------------------\n",
      "Running T = 0.56...\n",
      "--------------------\n",
      "Running T = 0.54...\n",
      "--------------------\n",
      "Running T = 0.53...\n",
      "--------------------\n",
      "Running T = 0.51...\n",
      "--------------------\n"
     ]
    }
   ],
   "source": [
    "# Bs = np.arange(0.1, 2, 0.05)\n",
    "\n",
    "# temperatures = 1 / Bs\n",
    "# T_steps = len(temperatures)\n",
    "\n",
    "# simulation_params['save_images'] = False\n",
    "\n",
    "# spins_T = np.empty((T_steps, MC_steps), dtype=np.int8)\n",
    "# energies_T = np.empty((T_steps, MC_steps), dtype=np.float32)\n",
    "# images_T = np.empty((T_steps, n_images-2, N, N), dtype=np.int8)\n",
    "\n",
    "# for i, T in enumerate(temperatures):\n",
    "#     print(f\"Running T = {T:.2f}...\")\n",
    "#     print(\"-\" * 20)\n",
    "#     simulation_params['T'] = T\n",
    "#     spins_T[i], energies_T[i], _ = metropolis(**simulation_params)\n"
   ]
  }
 ],
 "metadata": {
  "kernelspec": {
   "display_name": "base",
   "language": "python",
   "name": "python3"
  },
  "language_info": {
   "codemirror_mode": {
    "name": "ipython",
    "version": 3
   },
   "file_extension": ".py",
   "mimetype": "text/x-python",
   "name": "python",
   "nbconvert_exporter": "python",
   "pygments_lexer": "ipython3",
   "version": "3.12.7"
  }
 },
 "nbformat": 4,
 "nbformat_minor": 5
}
