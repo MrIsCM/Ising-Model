{
 "cells": [
  {
   "cell_type": "markdown",
   "id": "590e7280",
   "metadata": {},
   "source": [
    "# Imports"
   ]
  },
  {
   "cell_type": "code",
   "execution_count": 1,
   "id": "4b0b8e11",
   "metadata": {},
   "outputs": [],
   "source": [
    "import numpy as np\n",
    "from Ising_Model_Fast import *"
   ]
  },
  {
   "cell_type": "markdown",
   "id": "3de5f218",
   "metadata": {},
   "source": [
    "# Simulation"
   ]
  },
  {
   "cell_type": "markdown",
   "id": "5f36b9d7",
   "metadata": {},
   "source": [
    "## Configuration"
   ]
  },
  {
   "cell_type": "code",
   "execution_count": 2,
   "id": "41f8c7a3",
   "metadata": {},
   "outputs": [],
   "source": [
    "SEED = 42\n",
    "np.random.seed(SEED)\n",
    "\n",
    "N = 100\n",
    "J1 = 0.5\n",
    "J2 = 1.0\n",
    "T = 0.5\n",
    "MC_steps = int(1e6)"
   ]
  },
  {
   "cell_type": "markdown",
   "id": "f9c4e0fb",
   "metadata": {},
   "source": [
    "## Initialize net"
   ]
  },
  {
   "cell_type": "code",
   "execution_count": 3,
   "id": "2671c7ce",
   "metadata": {},
   "outputs": [],
   "source": [
    "# Generate a random 2D lattice\n",
    "\n",
    "# Probability of value 1 [-1 has (p-1) probability]\n",
    "p = 0.5\n",
    "lattice = np.random.choice([1, -1], size=(N, N), p=[p, 1-p])\n",
    "\n",
    "p_1 = 0.75\n",
    "lattice_p = np.random.choice([1, -1], size=(N, N), p=[p_1, 1-p_1])\n",
    "\n",
    "p_2 = 0.25\n",
    "lattice_n = np.random.choice([1, -1], size=(N, N), p=[p_2, 1-p_2])"
   ]
  },
  {
   "cell_type": "markdown",
   "id": "4b9cc26e",
   "metadata": {},
   "source": [
    "## Simulation parameters"
   ]
  },
  {
   "cell_type": "code",
   "execution_count": 4,
   "id": "51f6ca4c",
   "metadata": {},
   "outputs": [],
   "source": [
    "# Get initial energy of the lattice\n",
    "energy = get_energy(lattice, N, J1, J2)\n",
    "\n",
    "# Desired number of states to save\n",
    "n_images = 100\n",
    "\n",
    "# Generate the appropriate spacing for the images\n",
    "# Using logspace to get more images at the early stages (more change) and less at the end (less change)\n",
    "img_spacing = set(np.logspace(0, np.log10(MC_steps), num=n_images, endpoint=True, dtype=int))"
   ]
  },
  {
   "cell_type": "code",
   "execution_count": 5,
   "id": "95db3947",
   "metadata": {},
   "outputs": [],
   "source": [
    "simulation_params = {\n",
    "    'lattice' : lattice,\n",
    "    'MC_steps' : MC_steps,\n",
    "    'T' : T,\n",
    "    'energy' : energy,\n",
    "    'N' : N,\n",
    "    'J1' : J1,\n",
    "    'J2' : J2,\n",
    "    'save_images' : True,\n",
    "    'image_spacing' : img_spacing,\n",
    "    'verbose' : 0\n",
    "    }\n",
    "\n",
    "# Run the Metropolis algorithm\n",
    "spins, energies, images = metropolis(**simulation_params)"
   ]
  },
  {
   "cell_type": "markdown",
   "id": "cc174194",
   "metadata": {},
   "source": [
    "## Visualize results"
   ]
  },
  {
   "cell_type": "code",
   "execution_count": 7,
   "id": "a43ad761",
   "metadata": {},
   "outputs": [
    {
     "name": "stdout",
     "output_type": "stream",
     "text": [
      "GIF saved as Simulation_N100_T0.5\\figures\\ising.gif\n"
     ]
    },
    {
     "ename": "NameError",
     "evalue": "name 'save_magnetization_data' is not defined",
     "output_type": "error",
     "traceback": [
      "\u001b[1;31m---------------------------------------------------------------------------\u001b[0m",
      "\u001b[1;31mNameError\u001b[0m                                 Traceback (most recent call last)",
      "Cell \u001b[1;32mIn[7], line 7\u001b[0m\n\u001b[0;32m      4\u001b[0m create_gif(images, figures_dir\u001b[38;5;241m=\u001b[39mpaths[\u001b[38;5;124m'\u001b[39m\u001b[38;5;124mfigures\u001b[39m\u001b[38;5;124m'\u001b[39m], filename\u001b[38;5;241m=\u001b[39m\u001b[38;5;124m'\u001b[39m\u001b[38;5;124mising.gif\u001b[39m\u001b[38;5;124m'\u001b[39m, scale\u001b[38;5;241m=\u001b[39m\u001b[38;5;241m5\u001b[39m, fps\u001b[38;5;241m=\u001b[39m\u001b[38;5;241m15\u001b[39m, cmap\u001b[38;5;241m=\u001b[39m\u001b[38;5;124m'\u001b[39m\u001b[38;5;124mplasma\u001b[39m\u001b[38;5;124m'\u001b[39m)\n\u001b[0;32m      6\u001b[0m \u001b[38;5;66;03m# Save data\u001b[39;00m\n\u001b[1;32m----> 7\u001b[0m \u001b[43msave_magnetization_data\u001b[49m(spins, figures_dir\u001b[38;5;241m=\u001b[39mpaths[\u001b[38;5;124m'\u001b[39m\u001b[38;5;124mdata\u001b[39m\u001b[38;5;124m'\u001b[39m])\n\u001b[0;32m      8\u001b[0m save_energy_data(energies, figures_dir\u001b[38;5;241m=\u001b[39mpaths[\u001b[38;5;124m'\u001b[39m\u001b[38;5;124mdata\u001b[39m\u001b[38;5;124m'\u001b[39m])\n\u001b[0;32m      9\u001b[0m save_lattice_data(spins, figures_dir\u001b[38;5;241m=\u001b[39mpaths[\u001b[38;5;124m'\u001b[39m\u001b[38;5;124mdata\u001b[39m\u001b[38;5;124m'\u001b[39m])\n",
      "\u001b[1;31mNameError\u001b[0m: name 'save_magnetization_data' is not defined"
     ]
    }
   ],
   "source": [
    "paths = path_configuration(N, T)\n",
    "\n",
    "# Save gif\n",
    "create_gif(images, figures_dir=paths['figures'], filename='ising.gif', scale=5, fps=15, cmap='plasma')\n",
    "\n",
    "# Save data\n",
    "save_magnetization_data(spins, figures_dir=paths['data'])\n",
    "save_energy_data(energies, figures_dir=paths['data'])\n",
    "save_lattice_data(spins, figures_dir=paths['data'])"
   ]
  },
  {
   "cell_type": "code",
   "execution_count": 6,
   "id": "7c27f038",
   "metadata": {},
   "outputs": [
    {
     "name": "stdout",
     "output_type": "stream",
     "text": [
      "Running T = 10.00...\n",
      "--------------------\n",
      "Running T = 6.67...\n",
      "--------------------\n",
      "Running T = 5.00...\n",
      "--------------------\n",
      "Running T = 4.00...\n",
      "--------------------\n",
      "Running T = 3.33...\n",
      "--------------------\n",
      "Running T = 2.86...\n",
      "--------------------\n",
      "Running T = 2.50...\n",
      "--------------------\n",
      "Running T = 2.22...\n",
      "--------------------\n",
      "Running T = 2.00...\n",
      "--------------------\n",
      "Running T = 1.82...\n",
      "--------------------\n",
      "Running T = 1.67...\n",
      "--------------------\n",
      "Running T = 1.54...\n",
      "--------------------\n",
      "Running T = 1.43...\n",
      "--------------------\n",
      "Running T = 1.33...\n",
      "--------------------\n",
      "Running T = 1.25...\n",
      "--------------------\n",
      "Running T = 1.18...\n",
      "--------------------\n",
      "Running T = 1.11...\n",
      "--------------------\n",
      "Running T = 1.05...\n",
      "--------------------\n",
      "Running T = 1.00...\n",
      "--------------------\n",
      "Running T = 0.95...\n",
      "--------------------\n",
      "Running T = 0.91...\n",
      "--------------------\n",
      "Running T = 0.87...\n",
      "--------------------\n",
      "Running T = 0.83...\n",
      "--------------------\n",
      "Running T = 0.80...\n",
      "--------------------\n",
      "Running T = 0.77...\n",
      "--------------------\n",
      "Running T = 0.74...\n",
      "--------------------\n",
      "Running T = 0.71...\n",
      "--------------------\n",
      "Running T = 0.69...\n",
      "--------------------\n",
      "Running T = 0.67...\n",
      "--------------------\n",
      "Running T = 0.65...\n",
      "--------------------\n",
      "Running T = 0.62...\n",
      "--------------------\n",
      "Running T = 0.61...\n",
      "--------------------\n",
      "Running T = 0.59...\n",
      "--------------------\n",
      "Running T = 0.57...\n",
      "--------------------\n",
      "Running T = 0.56...\n",
      "--------------------\n",
      "Running T = 0.54...\n",
      "--------------------\n",
      "Running T = 0.53...\n",
      "--------------------\n",
      "Running T = 0.51...\n",
      "--------------------\n"
     ]
    }
   ],
   "source": [
    "n_Bs = 20\n",
    "Bs = np.arange(0.1, 2, 0.05)\n",
    "\n",
    "temperatures = 1 / Bs\n",
    "T_steps = len(temperatures)\n",
    "simulation_params['save_images'] = False\n",
    "spins_T = np.empty((T_steps, MC_steps), dtype=np.int8)\n",
    "energies_T = np.empty((T_steps, MC_steps), dtype=np.float32)\n",
    "images_T = np.empty((T_steps, n_images-2, N, N), dtype=np.int8)\n",
    "\n",
    "for i, T in enumerate(temperatures):\n",
    "    print(f\"Running T = {T:.2f}...\")\n",
    "    print(\"-\" * 20)\n",
    "    simulation_params['T'] = T\n",
    "    spins_T[i], energies_T[i], _ = metropolis(**simulation_params)\n"
   ]
  }
 ],
 "metadata": {
  "kernelspec": {
   "display_name": "base",
   "language": "python",
   "name": "python3"
  },
  "language_info": {
   "codemirror_mode": {
    "name": "ipython",
    "version": 3
   },
   "file_extension": ".py",
   "mimetype": "text/x-python",
   "name": "python",
   "nbconvert_exporter": "python",
   "pygments_lexer": "ipython3",
   "version": "3.12.7"
  }
 },
 "nbformat": 4,
 "nbformat_minor": 5
}
