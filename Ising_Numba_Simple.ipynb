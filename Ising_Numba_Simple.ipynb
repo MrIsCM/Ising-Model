{
 "cells": [
  {
   "cell_type": "markdown",
   "id": "344fe016",
   "metadata": {},
   "source": [
    "# Imports"
   ]
  },
  {
   "cell_type": "code",
   "execution_count": 2,
   "id": "b2a07f83",
   "metadata": {},
   "outputs": [],
   "source": [
    "import numpy as np\n",
    "import matplotlib.pyplot as plt\n",
    "import numba\n",
    "from numba import njit\n",
    "from scipy.ndimage import convolve\n",
    "import imageio\n",
    "from pathlib import Path"
   ]
  },
  {
   "cell_type": "markdown",
   "id": "ac638e63",
   "metadata": {},
   "source": [
    "# Function definition"
   ]
  },
  {
   "cell_type": "code",
   "execution_count": 3,
   "id": "0eb2719e",
   "metadata": {},
   "outputs": [],
   "source": [
    "def get_energy(lattice, N, J1, J2):\n",
    "    kernel_nn = np.array([\n",
    "                [0, 1, 0],\n",
    "                [1, 0, 1],\n",
    "                [0, 1, 0]])\n",
    "    \n",
    "    kernel_nnn = np.array([\n",
    "                [1, 0, 1],\n",
    "                [0, 0, 0],\n",
    "                [1, 0, 1]])\n",
    "    \n",
    "    energy_nn = -J1 * lattice * convolve(lattice, kernel_nn, mode='wrap')\n",
    "    energy_nnn = -J2 * lattice * convolve(lattice, kernel_nnn, mode='wrap')\n",
    "    \n",
    "    return (energy_nn + energy_nnn).sum()/(2*N)"
   ]
  },
  {
   "cell_type": "code",
   "execution_count": 4,
   "id": "a50aa5aa",
   "metadata": {},
   "outputs": [],
   "source": [
    "@njit\n",
    "def get_dE(lattice, x, y, N, J1, J2):\n",
    "    nn_sum = (\n",
    "        lattice[(x-1)%N, y] + lattice[(x+1)%N, y] +\n",
    "        lattice[x, (y-1)%N] + lattice[x, (y+1)%N]\n",
    "    )\n",
    "\n",
    "    nnn_sum = (\n",
    "        lattice[(x-1)%N, (y-1)%N] + lattice[(x+1)%N, (y-1)%N] +\n",
    "        lattice[(x-1)%N, (y+1)%N] + lattice[(x+1)%N, (y+1)%N]\n",
    "    )\n",
    "\n",
    "    dE = 2 * lattice[x, y] * (J1 * nn_sum + J2 * nnn_sum)\n",
    "\n",
    "    return dE"
   ]
  },
  {
   "cell_type": "code",
   "execution_count": null,
   "id": "80212ef0",
   "metadata": {},
   "outputs": [],
   "source": [
    "@njit\n",
    "def metropolis(lattice, MC_steps, T, energy, N, J1, J2, save_images=False, image_spacing=None, verbose=0):\n",
    "\n",
    "    # 1. Initialize variables\n",
    "    web = lattice.copy()\n",
    "    net_spins = np.zeros(MC_steps)\n",
    "    net_energy = np.zeros(MC_steps)\n",
    "\n",
    "    # Information output. Ammount if information printed is controlled by verbose.\n",
    "    if verbose > 0:\n",
    "        print(f\"Starting simulation with configuration:\")\n",
    "        print(f\"\\t - NxN: {N}x{N}\")\n",
    "        print(f\"\\t - Temperature: {T}\")\n",
    "        print(f\"\\t - J1: {J1}\")\n",
    "        print(f\"\\t - J2: {J2}\")\n",
    "        print(f\"\\t - MC steps: {MC_steps}\")\n",
    "    if verbose > 1:\n",
    "        print(f\"\\t - Initial energy: {energy}\")\n",
    "        print(f\"\\t - Initial magnetization: {web.sum()/(N**2)}\")\n",
    "\n",
    "    #------------------------\n",
    "    #   Image saving logic\n",
    "    #------------------------\n",
    "    if save_images and image_spacing is not None:\n",
    "        if verbose > 0:\n",
    "            print(f\"This run wil save {len(image_spacing)} images\")\n",
    "        images = np.empty((len(image_spacing), N, N), dtype=np.int8)\n",
    "        aux_img_idx = 0\n",
    "    # 'None' used for consistency in the return statement\n",
    "    else:\n",
    "        if verbose > 0:\n",
    "            print(f\"This run will not save images\")\n",
    "        images = None\n",
    "\n",
    "    # ---------------------\n",
    "    #       Main loop\n",
    "    # ---------------------\n",
    "    for t in range(MC_steps):\n",
    "        if save_images and t in image_spacing:\n",
    "            if verbose > 1:\n",
    "                print(f\"Saving state at step: {t}/{MC_steps}\")\n",
    "            images[aux_img_idx] = web.copy()\n",
    "            aux_img_idx += 1\n",
    "\n",
    "        # 2. Choose a random spin to evaluate\n",
    "        x = np.random.randint(0, N)\n",
    "        y = np.random.randint(0, N)\n",
    "\n",
    "\n",
    "        # 3. Compute the change in energy\n",
    "        dE = get_dE(web, x, y, N, J1, J2)\n",
    "\n",
    "        # 4. Apply flipping condition\n",
    "        if ((dE > 0) * (np.random.random() < np.exp(-dE/T))):\n",
    "            web[x,y] *= -1\n",
    "            energy += dE\n",
    "        elif dE<=0:\n",
    "            web[x,y] *= -1\n",
    "            energy += dE\n",
    "            \n",
    "        # 5. Save net spin (magnetization) and energy\n",
    "        net_spins[t] = web.sum()/(N**2)\n",
    "        net_energy[t] = energy\n",
    "\n",
    "    # \n",
    "    if save_images and image_spacing is not None:\n",
    "        images[-1] = web.copy()\n",
    "\n",
    "            \n",
    "    return net_spins, net_energy, images"
   ]
  },
  {
   "cell_type": "code",
   "execution_count": 6,
   "id": "1acd1b8c",
   "metadata": {},
   "outputs": [],
   "source": [
    "def path_configuration(N, T, J1=None, J2=None, data_dir='data', figures_dir='figures', verbose=0):\n",
    "    \"\"\"\n",
    "    Create the directory structure for the simulation data and figures.\n",
    "    \"\"\"\n",
    "    if verbose > 0:\n",
    "        print(f\"Creating directory structure for N={N}, T={T}\")\n",
    "    \n",
    "    # Parent folder\n",
    "    if verbose > 1:\n",
    "        print(f\"Creating parent folder\")\n",
    "    if J1 is None or J2 is None:\n",
    "        parent_name = f\"Simulation_N{N}_T{T}\"\n",
    "    else:\n",
    "        parent_name = f\"Simulation_N{N}_T{T}_J1{J1}_J2{J2}\"\n",
    "    parent_dir = Path(parent_name)\n",
    "    parent_dir.mkdir(parents=True, exist_ok=True)\n",
    "\n",
    "    # Sub folders\n",
    "    data_dir = parent_dir / data_dir\n",
    "    figures_dir = parent_dir / figures_dir\n",
    "    if verbose > 1:\n",
    "        print(f\"Creating data folder\")\n",
    "        print(f\"Creating figures folder\")\n",
    "    data_dir.mkdir(parents=True, exist_ok=True)\n",
    "    figures_dir.mkdir(parents=True, exist_ok=True)"
   ]
  },
  {
   "cell_type": "markdown",
   "id": "81faef07",
   "metadata": {},
   "source": [
    "# Simulation parameters"
   ]
  },
  {
   "cell_type": "code",
   "execution_count": 12,
   "id": "f187e8fa",
   "metadata": {},
   "outputs": [],
   "source": [
    "SEED = 42\n",
    "np.random.seed(SEED)\n",
    "\n",
    "N = 100\n",
    "J1 = 0.5\n",
    "J2 = 1.0\n",
    "T = 0.5\n",
    "MC_steps = 10000000"
   ]
  },
  {
   "cell_type": "code",
   "execution_count": 8,
   "id": "c577912b",
   "metadata": {},
   "outputs": [],
   "source": [
    "# Generate a random 2D lattice\n",
    "\n",
    "# Probability of value 1 [-1 has (p-1) probability]\n",
    "p_1 = 0.5\n",
    "lattice = np.random.choice([1, -1], size=(N, N), p=[p_1, 1-p_1])"
   ]
  },
  {
   "cell_type": "code",
   "execution_count": 9,
   "id": "2c686cc7",
   "metadata": {},
   "outputs": [],
   "source": [
    "# Get initial energy of the lattice\n",
    "energy = get_energy(lattice, N, J1, J2)\n",
    "\n",
    "# Desired number of states to save\n",
    "n_images = 50\n",
    "\n",
    "# Generate the appropriate spacing for the images\n",
    "# Using logspace to get more images at the early stages (more change) and less at the end (less change)\n",
    "img_spacing = set(np.logspace(0, np.log10(MC_steps), num=n_images, endpoint=True, dtype=int))"
   ]
  },
  {
   "cell_type": "code",
   "execution_count": 13,
   "id": "e9f1c190",
   "metadata": {},
   "outputs": [],
   "source": [
    "simulation_params = {\n",
    "    'lattice' : lattice,\n",
    "    'MC_steps' : MC_steps,\n",
    "    'T' : T,\n",
    "    'energy' : energy,\n",
    "    'N' : N,\n",
    "    'J1' : J1,\n",
    "    'J2' : J2,\n",
    "    'save_images' : True,\n",
    "    'image_spacing' : img_spacing,\n",
    "    'verbose' : 0\n",
    "    }\n",
    "\n",
    "# Run the Metropolis algorithm\n",
    "spins, energies, images, image_indices = metropolis(**simulation_params)"
   ]
  },
  {
   "cell_type": "code",
   "execution_count": 206,
   "id": "1ee01b57",
   "metadata": {},
   "outputs": [],
   "source": [
    "def create_gif(images, filename=\"simulation.gif\", fps=10, scale=1, cmap=\"gray\", verbose=True):\n",
    "    \"\"\"\n",
    "    Create a GIF from a list of 2D numpy arrays.\n",
    "\n",
    "    Parameters:\n",
    "    - images: list of 2D numpy arrays (values in -1 or 1)\n",
    "    - filename: output GIF filename\n",
    "    - fps: frames per second\n",
    "    - scale: scaling factor for image size (integer)\n",
    "    - cmap: matplotlib colormap name (e.g., 'gray', 'viridis', 'plasma', etc.)\n",
    "    \"\"\"\n",
    "    duration = len(images) / fps\n",
    "\n",
    "    # Create writer\n",
    "    with imageio.get_writer(filename, mode=\"I\", duration=duration / len(images)) as writer:\n",
    "        for img in images:\n",
    "            # Normalize lattice values to 0-255\n",
    "            norm_img = ((img + 1) * 127.5).astype(np.uint8)\n",
    "\n",
    "            # Apply colormap if not grayscale\n",
    "            if cmap != \"gray\":\n",
    "                colored_img = plt.get_cmap(cmap)(norm_img / 255.0)  # RGBA values 0-1\n",
    "                colored_img = (colored_img[:, :, :3] * 255).astype(np.uint8)  # Drop alpha\n",
    "            else:\n",
    "                colored_img = np.stack([norm_img]*3, axis=-1)  # Grayscale to RGB\n",
    "\n",
    "            # Scale image if needed\n",
    "            if scale > 1:\n",
    "                colored_img = colored_img.repeat(scale, axis=0).repeat(scale, axis=1)\n",
    "\n",
    "            # Write frame\n",
    "            writer.append_data(colored_img)\n",
    "    if verbose:\n",
    "        print(f\"GIF saved as {filename}\")\n"
   ]
  },
  {
   "cell_type": "code",
   "execution_count": 14,
   "id": "48176388",
   "metadata": {},
   "outputs": [
    {
     "name": "stderr",
     "output_type": "stream",
     "text": [
      "C:\\Users\\rbern\\AppData\\Roaming\\Python\\Python312\\site-packages\\IPython\\core\\pylabtools.py:170: UserWarning: Creating legend with loc=\"best\" can be slow with large amounts of data.\n",
      "  fig.canvas.print_figure(bytes_io, **kw)\n"
     ]
    },
    {
     "data": {
      "image/png": "[encoded data removed]",
      "text/plain": [
       "<Figure size 640x480 with 2 Axes>"
      ]
     },
     "metadata": {},
     "output_type": "display_data"
    }
   ],
   "source": [
    "tolerance = 0.01\n",
    "\n",
    "energy_color = \"blue\"\n",
    "spin_color = \"red\"\n",
    "\n",
    "fig, ax1 = plt.subplots()\n",
    "\n",
    "ax1.set_xlabel(\"Monte Carlo Steps\")\n",
    "ax1.set_ylabel(\"Average Energy\", color=energy_color)\n",
    "ax1.plot(energies, color=energy_color, label=\"Energy\")\n",
    "ax1.tick_params(axis='y', labelcolor=energy_color)\n",
    "\n",
    "# equilibrium_x = np.argmin(energies)\n",
    "# ax1.axvline(x=equilibrium_x, color='gray', linestyle='--', label=\"Equilibrium\")\n",
    "\n",
    "ax2 = ax1.twinx()\n",
    "ax2.set_ylabel(\"Average spin\", color=spin_color)\n",
    "ax2.plot(spins, color=spin_color, label=\"Magnetization\")\n",
    "ax2.tick_params(axis='y', labelcolor=spin_color)\n",
    "\n",
    "fig.tight_layout()\n",
    "plt.grid()\n",
    "plt.legend()\n",
    "plt.show()\n",
    "plt.close()"
   ]
  },
  {
   "cell_type": "code",
   "execution_count": 207,
   "id": "d88bb938",
   "metadata": {},
   "outputs": [
    {
     "name": "stdout",
     "output_type": "stream",
     "text": [
      "GIF saved as simulation.gif\n"
     ]
    }
   ],
   "source": [
    "create_gif(images, filename=\"simulation.gif\", fps=10, scale=8, cmap=\"plasma\", verbose=True)"
   ]
  }
 ],
 "metadata": {
  "kernelspec": {
   "display_name": "base",
   "language": "python",
   "name": "python3"
  },
  "language_info": {
   "codemirror_mode": {
    "name": "ipython",
    "version": 3
   },
   "file_extension": ".py",
   "mimetype": "text/x-python",
   "name": "python",
   "nbconvert_exporter": "python",
   "pygments_lexer": "ipython3",
   "version": "3.12.7"
  }
 },
 "nbformat": 4,
 "nbformat_minor": 5
}
