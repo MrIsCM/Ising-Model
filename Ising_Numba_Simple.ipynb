{
 "cells": [
  {
   "cell_type": "markdown",
   "id": "344fe016",
   "metadata": {},
   "source": [
    "# Imports"
   ]
  },
  {
   "cell_type": "code",
   "execution_count": 60,
   "id": "b2a07f83",
   "metadata": {},
   "outputs": [],
   "source": [
    "import numpy as np\n",
    "import matplotlib.pyplot as plt\n",
    "import numba\n",
    "from numba import njit\n",
    "from scipy.ndimage import convolve"
   ]
  },
  {
   "cell_type": "code",
   "execution_count": 82,
   "id": "0eb2719e",
   "metadata": {},
   "outputs": [],
   "source": [
    "def get_energy(lattice, N, J1, J2):\n",
    "    kernel_nn = np.array([\n",
    "                [0, 1, 0],\n",
    "                [1, 0, 1],\n",
    "                [0, 1, 0]])\n",
    "    \n",
    "    kernel_nnn = np.array([\n",
    "                [1, 0, 1],\n",
    "                [0, 0, 0],\n",
    "                [1, 0, 1]])\n",
    "    \n",
    "    energy_nn = -J1 * lattice * convolve(lattice, kernel_nn, mode='wrap')\n",
    "    energy_nnn = -J2 * lattice * convolve(lattice, kernel_nnn, mode='wrap')\n",
    "    \n",
    "    return (energy_nn + energy_nnn).sum()/(2*N)"
   ]
  },
  {
   "cell_type": "code",
   "execution_count": 88,
   "id": "a50aa5aa",
   "metadata": {},
   "outputs": [],
   "source": [
    "@njit\n",
    "def get_dE(lattice, x, y, N, J1, J2):\n",
    "    nn_sum = (\n",
    "        lattice[(x-1)%N, y] + lattice[(x+1)%N, y] +\n",
    "        lattice[x, (y-1)%N] + lattice[x, (y+1)%N]\n",
    "    )\n",
    "\n",
    "    nnn_sum = (\n",
    "        lattice[(x-1)%N, (y-1)%N] + lattice[(x+1)%N, (y-1)%N] +\n",
    "        lattice[(x-1)%N, (y+1)%N] + lattice[(x+1)%N, (y+1)%N]\n",
    "    )\n",
    "\n",
    "    dE = 2 * lattice[x, y] * (J1 * nn_sum + J2 * nnn_sum)\n",
    "\n",
    "    return dE"
   ]
  },
  {
   "cell_type": "code",
   "execution_count": 99,
   "id": "80212ef0",
   "metadata": {},
   "outputs": [],
   "source": [
    "# @numba.njit(\"UniTuple(f8[:], 2)(f8[:,:], i8, f8, f8, i8, f8, f8)\", nogil=True)\n",
    "@njit\n",
    "def metropolis(lattice, MC_steps, T, energy, N, J1, J2, save_images=False, image_spacing=None):\n",
    "    web = lattice.copy()\n",
    "    net_spins = np.zeros(MC_steps-1)\n",
    "    net_energy = np.zeros(MC_steps-1)\n",
    "\n",
    "    if save_images and image_spacing is not None:\n",
    "        images = np.empty((len(image_spacing), N, N), dtype=np.int8)\n",
    "        aux_img_idx = 0\n",
    "\n",
    "    else:\n",
    "        images = None\n",
    "        image_indices = None\n",
    "\n",
    "\n",
    "    for t in range(0,MC_steps-1):\n",
    "\n",
    "        if save_images and t in image_spacing:\n",
    "            images[aux_img_idx] = web.copy()\n",
    "            aux_img_idx += 1\n",
    "\n",
    "        # 2. pick random point on array and flip spin\n",
    "        x = np.random.randint(0,N)\n",
    "        y = np.random.randint(0,N)\n",
    "\n",
    "        \n",
    "        dE = get_dE(web, x, y, N, J1, J2)\n",
    "        if (dE>0)*(np.random.random() < np.exp(-T*dE)):\n",
    "            web[x,y] *= -1\n",
    "            energy += dE\n",
    "        elif dE<=0:\n",
    "            web[x,y] *= -1\n",
    "            energy += dE\n",
    "            \n",
    "        net_spins[t] = web.sum()/(N**2)\n",
    "        net_energy[t] = energy\n",
    "            \n",
    "    return net_spins, net_energy, images, image_indices"
   ]
  },
  {
   "cell_type": "code",
   "execution_count": 129,
   "id": "f187e8fa",
   "metadata": {},
   "outputs": [],
   "source": [
    "SEED = 42\n",
    "np.random.seed(SEED)\n",
    "\n",
    "N = 50\n",
    "J1 = 0.5\n",
    "J2 = 1.0\n",
    "T = 0.5\n",
    "MC_steps = 1000000"
   ]
  },
  {
   "cell_type": "code",
   "execution_count": 130,
   "id": "c577912b",
   "metadata": {},
   "outputs": [],
   "source": [
    "# Generate a random 2D lattice\n",
    "\n",
    "# Probability of value 1 (-1 has (p-1) probability)\n",
    "p_1 = 0.5\n",
    "lattice_1 = np.random.choice([1, -1], size=(N, N), p=[p_1, 1-p_1])\n",
    "\n",
    "# Generate another lattice with a different probability\n",
    "p_2 = 0.2\n",
    "lattice_2 = np.random.choice([1, -1], size=(N, N), p=[p_2, 1-p_2])"
   ]
  },
  {
   "cell_type": "code",
   "execution_count": 131,
   "id": "2c686cc7",
   "metadata": {},
   "outputs": [],
   "source": [
    "energy_0 = get_energy(lattice_1, N, J1, J2)\n",
    "num_imgs = MC_steps // 1000\n",
    "img_spacing = np.unique(np.logspace(0, np.log10(MC_steps), num=num_imgs, dtype=int))\n",
    "spins, energies, images, image_indices = metropolis(lattice_1, MC_steps, T, energy_0, N, J1, J2, save_images=True, image_spacing=img_spacing)"
   ]
  },
  {
   "cell_type": "code",
   "execution_count": 132,
   "id": "2c325ba2",
   "metadata": {},
   "outputs": [
    {
     "name": "stdout",
     "output_type": "stream",
     "text": [
      "GIF saved as simulation.gif\n"
     ]
    }
   ],
   "source": [
    "import imageio\n",
    "\n",
    "# Create a GIF from the images array\n",
    "gif_filename = \"simulation.gif\"\n",
    "with imageio.get_writer(gif_filename, mode=\"I\", duration=0.1) as writer:\n",
    "    for img in images:\n",
    "        writer.append_data(((img + 1) * 127.5).astype(np.uint8).repeat(10, axis=0).repeat(10, axis=1))  # Scale values and enlarge\n",
    "\n",
    "print(f\"GIF saved as {gif_filename}\")"
   ]
  }
 ],
 "metadata": {
  "kernelspec": {
   "display_name": "base",
   "language": "python",
   "name": "python3"
  },
  "language_info": {
   "codemirror_mode": {
    "name": "ipython",
    "version": 3
   },
   "file_extension": ".py",
   "mimetype": "text/x-python",
   "name": "python",
   "nbconvert_exporter": "python",
   "pygments_lexer": "ipython3",
   "version": "3.12.7"
  }
 },
 "nbformat": 4,
 "nbformat_minor": 5
}
