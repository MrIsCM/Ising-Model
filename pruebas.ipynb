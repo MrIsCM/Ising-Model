{
 "cells": [
  {
   "cell_type": "code",
   "execution_count": 1,
   "id": "09d6827c",
   "metadata": {},
   "outputs": [],
   "source": [
    "import numpy as np\n",
    "from IsingClass import IsingModel"
   ]
  },
  {
   "cell_type": "code",
   "execution_count": 2,
   "id": "161c1480",
   "metadata": {},
   "outputs": [],
   "source": [
    "SEED = 42"
   ]
  },
  {
   "cell_type": "code",
   "execution_count": 3,
   "id": "9be23a49",
   "metadata": {},
   "outputs": [],
   "source": [
    "params_clasico = {\n",
    "    'N' : 64,\n",
    "    'T' : 1.0,\n",
    "    'J1' : 1.0,\n",
    "    'J2' : 0.0,\n",
    "    'SEED' : SEED,\n",
    "    'test_mode' : True\n",
    "}\n",
    "\n",
    "params_mod = params_clasico.copy()\n",
    "params_mod['J2'] = 2.0\n"
   ]
  },
  {
   "cell_type": "code",
   "execution_count": 4,
   "id": "152218b7",
   "metadata": {},
   "outputs": [],
   "source": [
    "modelo_clasico = IsingModel(**params_clasico)\n",
    "modelo_mod = IsingModel(**params_mod)"
   ]
  },
  {
   "cell_type": "code",
   "execution_count": 5,
   "id": "e1c4c6f9",
   "metadata": {},
   "outputs": [],
   "source": [
    "modelo_clasico.inicia_red()\n",
    "modelo_mod.inicia_red()"
   ]
  },
  {
   "cell_type": "code",
   "execution_count": 6,
   "id": "149ad7e3",
   "metadata": {},
   "outputs": [],
   "source": [
    "params_simulacion = {\n",
    "    'pasos_MC' : 250,\n",
    "    'generar_imagenes' : True,\n",
    "    'n_imagenes' : 5,\n",
    "    'espaciado_imagenes' : 'lineal',\n",
    "    'generar_gif' : True,\n",
    "    'pasos_muestreo_frames' : 1,\n",
    "    'calcular_magnetizacion' : True,\n",
    "    'pasos_muestreo_magnetizacion' : 1,\n",
    "}"
   ]
  },
  {
   "cell_type": "code",
   "execution_count": 7,
   "id": "e623aca5",
   "metadata": {},
   "outputs": [],
   "source": [
    "modelo_mod.simular(**params_simulacion)"
   ]
  },
  {
   "cell_type": "code",
   "execution_count": 8,
   "id": "8f8df78e",
   "metadata": {},
   "outputs": [],
   "source": [
    "modelo_mod.configurar_paths()"
   ]
  },
  {
   "cell_type": "code",
   "execution_count": 9,
   "id": "1e913fd5",
   "metadata": {},
   "outputs": [],
   "source": [
    "modelo_mod.crear_gif()"
   ]
  },
  {
   "cell_type": "code",
   "execution_count": 10,
   "id": "6c295148",
   "metadata": {},
   "outputs": [],
   "source": [
    "modelo_mod.guardar_imagenes()"
   ]
  },
  {
   "cell_type": "code",
   "execution_count": 11,
   "id": "b34db2c9",
   "metadata": {},
   "outputs": [],
   "source": [
    "modelo_mod.graficar_magnetizacion()"
   ]
  }
 ],
 "metadata": {
  "kernelspec": {
   "display_name": "base",
   "language": "python",
   "name": "python3"
  },
  "language_info": {
   "codemirror_mode": {
    "name": "ipython",
    "version": 3
   },
   "file_extension": ".py",
   "mimetype": "text/x-python",
   "name": "python",
   "nbconvert_exporter": "python",
   "pygments_lexer": "ipython3",
   "version": "3.12.7"
  }
 },
 "nbformat": 4,
 "nbformat_minor": 5
}
