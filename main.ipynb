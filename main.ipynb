{
 "cells": [
  {
   "cell_type": "markdown",
   "id": "b7144a71",
   "metadata": {},
   "source": [
    "# Imports"
   ]
  },
  {
   "cell_type": "code",
   "execution_count": 53,
   "id": "65cb8b67",
   "metadata": {},
   "outputs": [],
   "source": [
    "import numpy as np\n",
    "import matplotlib.pyplot as plt\n",
    "from pathlib import Path\n",
    "import timeit\n",
    "\n",
    "\n",
    "# Reproducibilidad\n",
    "SEED = 42\n",
    "np.random.seed(SEED)\n",
    "random.seed(SEED)\n",
    "\n",
    "from Ising_Functions import *"
   ]
  },
  {
   "cell_type": "code",
   "execution_count": 54,
   "id": "83571a05",
   "metadata": {},
   "outputs": [],
   "source": [
    "def compara_estados(red1, red2, metodo=None):\n",
    "    \"\"\"\n",
    "    Función para comparar dos estados de la red o dos redes.\n",
    "    Toma ambas redes.\n",
    "    Devuelve la suma de las diferencias dividida por el tamaño de la red\n",
    "    \"\"\"\n",
    "    resultado = red1 - red2\n",
    "    return np.mean(resultado/2)"
   ]
  },
  {
   "cell_type": "markdown",
   "id": "89d54c9f",
   "metadata": {},
   "source": [
    "# Paths"
   ]
  },
  {
   "cell_type": "code",
   "execution_count": 55,
   "id": "6e15d427",
   "metadata": {},
   "outputs": [
    {
     "name": "stdout",
     "output_type": "stream",
     "text": [
      "Test mode activado\n"
     ]
    }
   ],
   "source": [
    "test_mode = True\n",
    "\n",
    "if test_mode:\n",
    "    print(\"Test mode activado\")\n",
    "    test_dir = Path(\"test\")\n",
    "    test_dir.mkdir(exist_ok=True)\n",
    "    figures_dir = Path(\"test\") / \"figures\"\n",
    "    figures_dir.mkdir(exist_ok=True)\n",
    "    data_dir = Path(\"test\") / \"data\"\n",
    "    data_dir.mkdir(exist_ok=True)\n",
    "    gifs_dir = Path(\"test\") / \"gifs\"\n",
    "    gifs_dir.mkdir(exist_ok=True)\n",
    "\n",
    "else:\n",
    "    # Paths para guardar imágenes y resultados\n",
    "    figures_dir = Path(\"figures\")\n",
    "    figures_dir.mkdir(exist_ok=True)  # Crear directorio si no existe\n",
    "\n",
    "    data_dir = Path(\"data\")\n",
    "    data_dir.mkdir(exist_ok=True)  # Crear directorio si no existe\n",
    "\n",
    "    gifs_dir = Path(\"gifs\")\n",
    "    gifs_dir.mkdir(exist_ok=True)  # Crear directorio si no existe"
   ]
  },
  {
   "cell_type": "markdown",
   "id": "5af99afa",
   "metadata": {},
   "source": [
    "# Control Variables"
   ]
  },
  {
   "cell_type": "code",
   "execution_count": 56,
   "id": "aa6546b2",
   "metadata": {},
   "outputs": [],
   "source": [
    "# Configuración de la simulación\n",
    "N = 64                # Tamaño de la red\n",
    "T = 0.75              # Temperatura (en unidades arbitrarias)\n",
    "pasos = 100           # Número de pasos Monte Carlo\n",
    "num_imagenes = 5      # Número de imágenes a guardar para el paper\n",
    "\n",
    "\n",
    "\n",
    "if test_mode:\n",
    "    N = 64\n",
    "    T = 1\n",
    "    pasos = 150\n",
    "    num_imagenes = 5\n",
    "\n",
    "# Variables de control comunes\n",
    "generar_gif = True\n",
    "intervalo_gif = 1\n",
    "calcular_magnetizacion = True\n",
    "intervalo_magnetizacion = 1\n",
    "verbose = False\n",
    "\n",
    "# Opción de modelo: \"clasico\", \"modificado\" o \"ambos\"\n",
    "modelo = \"ambos\"  # Cambia este valor segun la simulación deseada"
   ]
  },
  {
   "cell_type": "markdown",
   "id": "054673ca",
   "metadata": {},
   "source": [
    "# Simulations"
   ]
  },
  {
   "cell_type": "markdown",
   "id": "2656092b",
   "metadata": {},
   "source": [
    "## Update boundaries each pMC"
   ]
  },
  {
   "cell_type": "markdown",
   "id": "2eb8ea4b",
   "metadata": {},
   "source": [
    "### Modif"
   ]
  },
  {
   "cell_type": "code",
   "execution_count": 57,
   "id": "9b3d4105",
   "metadata": {},
   "outputs": [],
   "source": [
    "if modelo == \"modificado\" or modelo == \"ambos\":\n",
    "    if verbose:\n",
    "        print(f\"Simulando Modelo de Ising modificado (con interacciones de next-neighbours) para T = {T}, N = {N}...\")\n",
    "    frames_mod, mags_mod, pasos_MC_frames_mod, pasos_MC_mags_mod = ising_simulacion_modificado(\n",
    "        N, T, pasos=pasos,\n",
    "        generar_gif=generar_gif, intervalo_gif=intervalo_gif,\n",
    "        calcular_magnetizacion=calcular_magnetizacion, intervalo_magnetizacion=intervalo_magnetizacion\n",
    "    )\n",
    "\n",
    "    if generar_gif:\n",
    "        gif_name_mod = f\"ising_mod_T{T}_N{N}.gif\"\n",
    "        if verbose:\n",
    "            print(f\"Guardando animación del modelo modificado como {gif_name_mod}...\")\n",
    "        crear_gif(frames_mod, nombre=gif_name_mod, dir_path=gifs_dir)\n",
    "\n",
    "    if calcular_magnetizacion:\n",
    "        mag_filepath_mod = data_dir / f\"magnetizacion_mod_T{T}_N{N}.txt\"\n",
    "        if verbose:\n",
    "            print(f\"Guardando magnetización promedio (modelo modificado) en {mag_filepath_mod}...\")\n",
    "        np.savetxt(mag_filepath_mod, mags_mod)\n",
    "        if verbose:\n",
    "            print(\"Magnetización (modificado) guardada correctamente.\")\n",
    "\n",
    "        curva_magnetizacion_mod = f\"magnetizacion_curva_mod_T{T}_N{N}.png\"\n",
    "        graficar_magnetizacion(mags_mod, pasos_MC_mags_mod, T, N, nombre=curva_magnetizacion_mod, dir_path=figures_dir)\n",
    "        if verbose:\n",
    "            print(f\"Curva de magnetización (modificado) guardada como {curva_magnetizacion_mod}.\")\n",
    "\n",
    "    if verbose:\n",
    "        print(\"Guardando imágenes equiespaciadas (modelo modificado) para el paper...\")\n",
    "    guardar_imagenes(frames_mod, num_imagenes=num_imagenes, nombre_base=f\"ising_mod_T{T}_N{N}\", dir_path=figures_dir, verbose=verbose)"
   ]
  },
  {
   "cell_type": "markdown",
   "id": "919361bd",
   "metadata": {},
   "source": [
    "### Classic"
   ]
  },
  {
   "cell_type": "code",
   "execution_count": 58,
   "id": "12485796",
   "metadata": {},
   "outputs": [],
   "source": [
    "if modelo == \"clasico\" or modelo == \"ambos\":\n",
    "    if verbose:\n",
    "        print(f\"\\nSimulando Modelo de Ising clásico para T = {T}, N = {N}...\")\n",
    "    frames_cls, mags_cls, pasos_MC_frames_cls, pasos_MC_mags_cls = ising_simulacion_clasico(\n",
    "        N, T, pasos=pasos,\n",
    "        generar_gif=generar_gif, intervalo_gif=intervalo_gif,\n",
    "        calcular_magnetizacion=calcular_magnetizacion, intervalo_magnetizacion=intervalo_magnetizacion\n",
    "    )\n",
    "\n",
    "    if generar_gif:\n",
    "        gif_name_cls = f\"ising_cls_T{T}_N{N}.gif\"\n",
    "        if verbose:\n",
    "            print(f\"Guardando animación del modelo clásico como {gif_name_cls}...\")\n",
    "        crear_gif(frames_cls, nombre=gif_name_cls, dir_path=gifs_dir)\n",
    "\n",
    "    if calcular_magnetizacion:\n",
    "        mag_filepath_cls = data_dir / f\"magnetizacion_cls_T{T}_N{N}.txt\"\n",
    "        if verbose:\n",
    "            print(f\"Guardando magnetización promedio (modelo clásico) en {mag_filepath_cls}...\")\n",
    "        np.savetxt(mag_filepath_cls, mags_cls)\n",
    "        if verbose:\n",
    "            print(\"Magnetización (clásico) guardada correctamente.\")\n",
    "\n",
    "        curva_magnetizacion_cls = f\"magnetizacion_curva_cls_T{T}_N{N}.png\"\n",
    "        graficar_magnetizacion(mags_cls, pasos_MC_mags_cls, T, N, nombre=curva_magnetizacion_cls, dir_path=figures_dir)\n",
    "        if verbose:\n",
    "            print(f\"Curva de magnetización (clásico) guardada como {curva_magnetizacion_cls}.\")\n",
    "\n",
    "    if verbose:\n",
    "        print(\"Guardando imágenes equiespaciadas (modelo clásico) para el paper...\")\n",
    "    guardar_imagenes(frames_cls, num_imagenes=num_imagenes, nombre_base=f\"ising_cls_T{T}_N{N}\", dir_path=figures_dir, verbose=verbose)\n",
    "if verbose:\n",
    "    print(\"\\nSimulación completada. Resultados guardados correctamente.\")"
   ]
  },
  {
   "cell_type": "code",
   "execution_count": 59,
   "id": "a99b81e1",
   "metadata": {},
   "outputs": [
    {
     "data": {
      "text/plain": [
       "0.00146484375"
      ]
     },
     "execution_count": 59,
     "metadata": {},
     "output_type": "execute_result"
    }
   ],
   "source": [
    "compara_estados(frames_mod[0], frames_cls[0])"
   ]
  },
  {
   "cell_type": "code",
   "execution_count": 70,
   "id": "8bd60103",
   "metadata": {},
   "outputs": [],
   "source": [
    "def crear_matriz_clasico_toroidal(N, values=[1, -1], padding_width=1, mode='wrap', seed=42):\n",
    "    \"\"\"\n",
    "    Crea una red de NxN spins aleatorios (valores +1 o -1) y añade bordes periódicos toroidales.\n",
    "    \n",
    "    Parámetros:\n",
    "    - N (int): Tamaño de la red (NxN).\n",
    "    - padding_width (int): Ancho del borde añadido (por defecto 1).\n",
    "    - mode (str): Modo de relleno para los bordes (por defecto 'wrap' para bordes periódicos).\n",
    "\n",
    "    Devuelve:\n",
    "    - numpy.ndarray: Red con bordes periódicos añadidos.\n",
    "    \"\"\"\n",
    "\n",
    "    rng_generator = np.random.default_rng(seed=seed)\n",
    "    \n",
    "    red = rng_generator.choice(values, size=(N, N))\n",
    "    web = np.pad(red, pad_width=padding_width, mode=mode)\n",
    "\n",
    "    return web"
   ]
  }
 ],
 "metadata": {
  "kernelspec": {
   "display_name": "base",
   "language": "python",
   "name": "python3"
  },
  "language_info": {
   "codemirror_mode": {
    "name": "ipython",
    "version": 3
   },
   "file_extension": ".py",
   "mimetype": "text/x-python",
   "name": "python",
   "nbconvert_exporter": "python",
   "pygments_lexer": "ipython3",
   "version": "3.12.7"
  }
 },
 "nbformat": 4,
 "nbformat_minor": 5
}
