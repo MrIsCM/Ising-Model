{
 "cells": [
  {
   "cell_type": "markdown",
   "id": "0d458400",
   "metadata": {},
   "source": [
    "# Imports"
   ]
  },
  {
   "cell_type": "code",
   "execution_count": 1,
   "id": "c13dfefa",
   "metadata": {},
   "outputs": [],
   "source": [
    "import numpy as np\n",
    "import matplotlib.pyplot as plt\n",
    "from pathlib import Path"
   ]
  },
  {
   "cell_type": "markdown",
   "id": "565e3b4c",
   "metadata": {},
   "source": [
    "# Folders"
   ]
  },
  {
   "cell_type": "code",
   "execution_count": 2,
   "id": "60bf0f27",
   "metadata": {},
   "outputs": [],
   "source": [
    "def create_paths(parent):\n",
    "    path_dict = {\n",
    "    \"data\" : parent / \"fata\",\n",
    "    \"figures\" : parent / \"figures\",\n",
    "    \"images\" : parent / \"images\",\n",
    "    }\n",
    "    return path_dict"
   ]
  },
  {
   "cell_type": "code",
   "execution_count": 3,
   "id": "1c33060c",
   "metadata": {},
   "outputs": [],
   "source": [
    "simulations_folder = Path(\"simulations\")\n",
    "simul_below = simulations_folder / \"Simulation_N100_T1.0\"\n",
    "below_paths = create_paths(simul_below)\n",
    "\n",
    "simul_above = simulations_folder / \"Simulation_N100_T4.0\"\n",
    "above_paths = create_paths(simul_above)\n",
    "\n",
    "simul_near = simulations_folder / \"Simulation_N100_T2.26\"\n",
    "near_paths = create_paths(simul_near)"
   ]
  },
  {
   "cell_type": "markdown",
   "id": "38c1b940",
   "metadata": {},
   "source": [
    "# Aux Functions"
   ]
  },
  {
   "cell_type": "code",
   "execution_count": 4,
   "id": "64dc8edb",
   "metadata": {},
   "outputs": [],
   "source": [
    "def plot_time_series(x, y, ylabel, title, fname, paths, ylims=None):\n",
    "    plt.figure()\n",
    "    plt.plot(x, y)\n",
    "    plt.xlabel('Monte Carlo Step')\n",
    "    plt.ylabel(ylabel)\n",
    "    plt.title(title)\n",
    "    if ylims:\n",
    "        plt.ylim(ylims)\n",
    "    plt.savefig(paths['figures'] / fname)\n",
    "    plt.close()"
   ]
  },
  {
   "cell_type": "code",
   "execution_count": 5,
   "id": "f32d9c7b",
   "metadata": {},
   "outputs": [],
   "source": [
    "def load_data(simulation_folder):\n",
    "    energy = np.load(simulation_folder / \"data/energies.npy\").astype(np.float32)\n",
    "    mags = np.load(simulation_folder / \"data/spins.npy\").astype(np.float32)\n",
    "    return energy, mags"
   ]
  },
  {
   "cell_type": "markdown",
   "id": "5d0fd0cf",
   "metadata": {},
   "source": [
    "# Below Critical Temperature"
   ]
  },
  {
   "cell_type": "code",
   "execution_count": 6,
   "id": "0db41a3b",
   "metadata": {},
   "outputs": [],
   "source": [
    "# Labels and titles\n",
    "\n",
    "save_plots = False\n",
    "\n",
    "mag_ylabel = \"Magnetization\"\n",
    "energy_ylabel = \"Energy\"\n",
    "\n",
    "mag_title = 'Magnetization vs MC steps'\n",
    "energy_title = 'Energy vs MC steps'\n",
    "\n",
    "mag_fname = 'magnetizacion_vs_pasos.png'\n",
    "energy_fname = 'energia_vs_pasos.png'\n",
    "\n",
    "step = 100\n",
    "ylims = [-0.05, 1.05]\n",
    "\n",
    "# Plotting\n",
    "if save_plots:\n",
    "    for folder, path in zip([simul_below, simul_above, simul_near], [below_paths, above_paths, near_paths]):\n",
    "        energy, spins = load_data(folder)\n",
    "        \n",
    "        x = np.arange(0, spins.shape[0], step)\n",
    "\n",
    "        if folder == simul_above:\n",
    "            ylims = [-0.1, 1.05]\n",
    "\n",
    "        # Plotting\n",
    "        plot_time_series(x, spins[::step], mag_ylabel, mag_title, mag_fname, path, ylims=ylims)\n",
    "        plot_time_series(x, energy[::step], energy_ylabel, energy_title, energy_fname, path)"
   ]
  },
  {
   "cell_type": "markdown",
   "id": "dd29b170",
   "metadata": {},
   "source": [
    "# Extrapolations\n",
    "\n",
    "Re-plotting missing or buggy extrapolation plots"
   ]
  },
  {
   "cell_type": "code",
   "execution_count": 12,
   "id": "74bb07d7",
   "metadata": {},
   "outputs": [],
   "source": [
    "from Ising_Model_Fast import *\n",
    "from scipy import stats\n",
    "from scipy.stats import t"
   ]
  },
  {
   "cell_type": "code",
   "execution_count": 63,
   "id": "caa97fff",
   "metadata": {},
   "outputs": [
    {
     "name": "stdout",
     "output_type": "stream",
     "text": [
      "------------------------------\n",
      "Linear regression results:\n",
      "------------------------------\n",
      "f(x) = -0.2859 * x + 0.1260\n",
      "Slope: -0.2859 ± 2.1749\n",
      "Intercept: 0.1260 ± 0.0196\n",
      "R-squared: 0.0086\n",
      "p-value: 0.9074\n",
      "------------------------------\n",
      "slope (85.0%): -0.285936 +/- 4.962901\n",
      "intercept (85.0%): 0.125986 +/- 0.044683\n"
     ]
    }
   ],
   "source": [
    "Ns = np.array([64, 128, 256, 512])\n",
    "betas = np.array([0.112577, 0.150044, 0.108585, 0.124362])\n",
    "betas_err = np.array([0.002685, 0.003890, 0.000811, 0.000859])\n",
    "\n",
    "error_scaler = np.linspace(5, 1, len(betas))\n",
    "\n",
    "x = 1/Ns\n",
    "y = betas\n",
    "yerr = error_scaler*betas_err\n",
    "\n",
    "results = stats.linregress(x, y)\n",
    "res = results\n",
    "\n",
    "slope, slope_err = results.slope, results.stderr\n",
    "intercept, intercept_err = results.intercept, results.intercept_stderr\n",
    "R = results.rvalue\n",
    "p_value = results.pvalue\n",
    "\n",
    "\n",
    "print(\"-\"*30)\n",
    "print(f\"Linear regression results:\")\n",
    "print(\"-\"*30)\n",
    "print(f\"f(x) = {slope:.4f} * x + {intercept:.4f}\")\n",
    "print(f\"Slope: {slope:.4f} ± {slope_err:.4f}\")\n",
    "print(f\"Intercept: {intercept:.4f} ± {intercept_err:.4f}\")\n",
    "print(f\"R-squared: {R**2:.4f}\")\n",
    "print(f\"p-value: {p_value:.4f}\")\n",
    "\n",
    "\n",
    "\n",
    "print(\"-\"*30)\n",
    "# Two-sided inverse Students t-distribution\n",
    "# p - probability, df - degrees of freedom\n",
    "\n",
    "prob = 0.15\n",
    "\n",
    "tinv = lambda p, df: abs(t.ppf(p/2, df))\n",
    "\n",
    "ts = tinv(prob, len(x)-2)\n",
    "print(f\"slope ({1-prob:.1%}): {res.slope:.6f} +/- {ts*res.stderr:.6f}\")\n",
    "print(f\"intercept ({1-prob:.1%}): {res.intercept:.6f}\"\n",
    "      f\" +/- {ts*res.intercept_stderr:.6f}\")"
   ]
  },
  {
   "cell_type": "code",
   "execution_count": 68,
   "id": "c1290254",
   "metadata": {},
   "outputs": [
    {
     "data": {
      "text/plain": [
       "<matplotlib.legend.Legend at 0x2344540bc20>"
      ]
     },
     "execution_count": 68,
     "metadata": {},
     "output_type": "execute_result"
    },
    {
     "data": {
      "image/png": "[encoded data removed]",
      "text/plain": [
       "<Figure size 600x400 with 1 Axes>"
      ]
     },
     "metadata": {},
     "output_type": "display_data"
    }
   ],
   "source": [
    "x_plot = np.linspace(-0.001, 0.021, 100)\n",
    "y_plot = slope * x_plot + intercept\n",
    "\n",
    "plt.figure(figsize=(6, 4))\n",
    "plt.errorbar(x = x, y=y, yerr=yerr, fmt='o', capsize=5, color='purple', label=r'$\\beta(N)$')\n",
    "plt.plot(x_plot, y_plot, 'r--', label=r'Fit: $\\beta(N) = -0.29/N + 0.126$')\n",
    "\n",
    "plt.title(r\"Extrapolation of $\\beta(N)$ to thermodynamic limit\")\n",
    "\n",
    "plt.ylim([0, 0.2])\n",
    "plt.xlabel(\"1/N\")\n",
    "plt.ylabel(r'Critical exponent: $\\beta$')\n",
    "\n",
    "plt.tight_layout()\n",
    "plt.legend()"
   ]
  }
 ],
 "metadata": {
  "kernelspec": {
   "display_name": "ising_env",
   "language": "python",
   "name": "python3"
  },
  "language_info": {
   "codemirror_mode": {
    "name": "ipython",
    "version": 3
   },
   "file_extension": ".py",
   "mimetype": "text/x-python",
   "name": "python",
   "nbconvert_exporter": "python",
   "pygments_lexer": "ipython3",
   "version": "3.12.7"
  }
 },
 "nbformat": 4,
 "nbformat_minor": 5
}
