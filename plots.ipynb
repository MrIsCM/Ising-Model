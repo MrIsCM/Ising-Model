{
 "cells": [
  {
   "cell_type": "markdown",
   "id": "0d458400",
   "metadata": {},
   "source": [
    "# Imports"
   ]
  },
  {
   "cell_type": "code",
   "execution_count": 8,
   "id": "c13dfefa",
   "metadata": {},
   "outputs": [],
   "source": [
    "import numpy as np\n",
    "import matplotlib.pyplot as plt\n",
    "from pathlib import Path"
   ]
  },
  {
   "cell_type": "markdown",
   "id": "565e3b4c",
   "metadata": {},
   "source": [
    "# Folders"
   ]
  },
  {
   "cell_type": "code",
   "execution_count": 18,
   "id": "60bf0f27",
   "metadata": {},
   "outputs": [],
   "source": [
    "def create_paths(parent):\n",
    "    path_dict = {\n",
    "    \"data\" : parent / \"fata\",\n",
    "    \"figures\" : parent / \"figures\",\n",
    "    \"images\" : parent / \"images\",\n",
    "    }\n",
    "    return path_dict"
   ]
  },
  {
   "cell_type": "code",
   "execution_count": 10,
   "id": "1c33060c",
   "metadata": {},
   "outputs": [],
   "source": [
    "simulations_folder = Path(\"simulations\")\n",
    "simul_below = simulations_folder / \"Simulation_N100_T1.0\"\n",
    "below_paths = create_paths(simul_below)\n",
    "\n",
    "simul_above = simulations_folder / \"Simulation_N100_T4.0\"\n",
    "above_paths = create_paths(simul_above)\n",
    "\n",
    "simul_near = simulations_folder / \"Simulation_N100_T2.26\"\n",
    "near_paths = create_paths(simul_near)"
   ]
  },
  {
   "cell_type": "markdown",
   "id": "38c1b940",
   "metadata": {},
   "source": [
    "# Aux Functions"
   ]
  },
  {
   "cell_type": "code",
   "execution_count": 16,
   "id": "64dc8edb",
   "metadata": {},
   "outputs": [],
   "source": [
    "def plot_time_series(x, y, ylabel, title, fname, paths, ylims=None):\n",
    "    plt.figure()\n",
    "    plt.plot(x, y)\n",
    "    plt.xlabel('Monte Carlo Step')\n",
    "    plt.ylabel(ylabel)\n",
    "    plt.title(title)\n",
    "    if ylims:\n",
    "        plt.ylim(ylims)\n",
    "    plt.savefig(paths['figures'] / fname)\n",
    "    plt.close()"
   ]
  },
  {
   "cell_type": "code",
   "execution_count": 12,
   "id": "f32d9c7b",
   "metadata": {},
   "outputs": [],
   "source": [
    "def load_data(simulation_folder):\n",
    "    energy = np.load(simulation_folder / \"data/energies.npy\").astype(np.float32)\n",
    "    mags = np.load(simulation_folder / \"data/spins.npy\").astype(np.float32)\n",
    "    return energy, mags"
   ]
  },
  {
   "cell_type": "markdown",
   "id": "5d0fd0cf",
   "metadata": {},
   "source": [
    "# Below Critical Temperature"
   ]
  },
  {
   "cell_type": "code",
   "execution_count": 17,
   "id": "0db41a3b",
   "metadata": {},
   "outputs": [],
   "source": [
    "# Labels and titles\n",
    "\n",
    "mag_ylabel = \"Magnetization\"\n",
    "energy_ylabel = \"Energy\"\n",
    "\n",
    "mag_title = 'Magnetization vs MC steps'\n",
    "energy_title = 'Energy vs MC steps'\n",
    "\n",
    "mag_fname = 'magnetizacion_vs_pasos.png'\n",
    "energy_fname = 'energia_vs_pasos.png'\n",
    "\n",
    "step = 100\n",
    "ylims = [-0.05, 1.05]\n",
    "\n",
    "# Plotting\n",
    "for folder, path in zip([simul_below, simul_above, simul_near], [below_paths, above_paths, near_paths]):\n",
    "    energy, spins = load_data(folder)\n",
    "    \n",
    "    x = np.arange(0, spins.shape[0], step)\n",
    "\n",
    "    if folder == simul_above:\n",
    "        ylims = [-0.1, 1.05]\n",
    "\n",
    "    # Plotting\n",
    "    plot_time_series(x, spins[::step], mag_ylabel, mag_title, mag_fname, path, ylims=ylims)\n",
    "    plot_time_series(x, energy[::step], energy_ylabel, energy_title, energy_fname, path)"
   ]
  }
 ],
 "metadata": {
  "kernelspec": {
   "display_name": "ising_env",
   "language": "python",
   "name": "python3"
  },
  "language_info": {
   "codemirror_mode": {
    "name": "ipython",
    "version": 3
   },
   "file_extension": ".py",
   "mimetype": "text/x-python",
   "name": "python",
   "nbconvert_exporter": "python",
   "pygments_lexer": "ipython3",
   "version": "3.12.7"
  }
 },
 "nbformat": 4,
 "nbformat_minor": 5
}
